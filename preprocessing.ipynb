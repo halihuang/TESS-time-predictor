{
 "cells": [
  {
   "cell_type": "code",
   "execution_count": 135,
   "metadata": {
    "collapsed": true,
    "pycharm": {
     "name": "#%%\n"
    }
   },
   "outputs": [
    {
     "data": {
      "text/plain": "      sector          ra        dec     mag       TJD type         class  \\\n0          1  327.160083 -43.380019  17.800  1340.340   SN          SNIa   \n1          1  315.033417 -40.358594  17.869  1341.926   SN          SNIa   \n2          1  313.474583 -38.015594  18.781  1347.901   SN          SNII   \n3          1  332.648000 -27.250161  16.700  1331.630   SN          SNII   \n4          1  327.584333 -26.300131  19.405  1337.965   AT  Unclassified   \n...      ...         ...        ...     ...       ...  ...           ...   \n4398      47  167.461817  75.334383  20.670  2601.001   AT  Unclassified   \n4399      47  210.216792  78.085778  19.680  2601.143   AT  Unclassified   \n4400      47  300.459933  85.849581  18.075  2588.733   AT  Unclassified   \n4401      47  256.141083  76.155150  18.470  2589.662   AT  Unclassified   \n4402      47  294.843542  66.896581  16.070  2586.159   AT  Unclassified   \n\n          IAU       survey  cam  ccd       col       row  \n0     2018evo      ASAS-SN    1    1  1860.105   322.643  \n1     2018exc        ATLAS    1    1   528.652  1304.728  \n2     2018fgb        ATLAS    1    1   424.192  1751.547  \n3     2018emt      ASAS-SN    1    3   642.568  1607.839  \n4     2018esp        ATLAS    1    3  1303.439  1157.924  \n...       ...          ...  ...  ...       ...       ...  \n4398  2022aji  Pan-STARRS1    3    2   521.417  1084.865  \n4399  2022aha  Pan-STARRS1    3    3  1679.425  1415.721  \n4400   2022gn        ATLAS    3    4  1667.608   986.600  \n4401   2022op   GaiaAlerts    4    1  1990.840   279.007  \n4402   2022eg   GaiaAlerts    4    4  1644.074  1817.239  \n\n[4403 rows x 13 columns]",
      "text/html": "<div>\n<style scoped>\n    .dataframe tbody tr th:only-of-type {\n        vertical-align: middle;\n    }\n\n    .dataframe tbody tr th {\n        vertical-align: top;\n    }\n\n    .dataframe thead th {\n        text-align: right;\n    }\n</style>\n<table border=\"1\" class=\"dataframe\">\n  <thead>\n    <tr style=\"text-align: right;\">\n      <th></th>\n      <th>sector</th>\n      <th>ra</th>\n      <th>dec</th>\n      <th>mag</th>\n      <th>TJD</th>\n      <th>type</th>\n      <th>class</th>\n      <th>IAU</th>\n      <th>survey</th>\n      <th>cam</th>\n      <th>ccd</th>\n      <th>col</th>\n      <th>row</th>\n    </tr>\n  </thead>\n  <tbody>\n    <tr>\n      <th>0</th>\n      <td>1</td>\n      <td>327.160083</td>\n      <td>-43.380019</td>\n      <td>17.800</td>\n      <td>1340.340</td>\n      <td>SN</td>\n      <td>SNIa</td>\n      <td>2018evo</td>\n      <td>ASAS-SN</td>\n      <td>1</td>\n      <td>1</td>\n      <td>1860.105</td>\n      <td>322.643</td>\n    </tr>\n    <tr>\n      <th>1</th>\n      <td>1</td>\n      <td>315.033417</td>\n      <td>-40.358594</td>\n      <td>17.869</td>\n      <td>1341.926</td>\n      <td>SN</td>\n      <td>SNIa</td>\n      <td>2018exc</td>\n      <td>ATLAS</td>\n      <td>1</td>\n      <td>1</td>\n      <td>528.652</td>\n      <td>1304.728</td>\n    </tr>\n    <tr>\n      <th>2</th>\n      <td>1</td>\n      <td>313.474583</td>\n      <td>-38.015594</td>\n      <td>18.781</td>\n      <td>1347.901</td>\n      <td>SN</td>\n      <td>SNII</td>\n      <td>2018fgb</td>\n      <td>ATLAS</td>\n      <td>1</td>\n      <td>1</td>\n      <td>424.192</td>\n      <td>1751.547</td>\n    </tr>\n    <tr>\n      <th>3</th>\n      <td>1</td>\n      <td>332.648000</td>\n      <td>-27.250161</td>\n      <td>16.700</td>\n      <td>1331.630</td>\n      <td>SN</td>\n      <td>SNII</td>\n      <td>2018emt</td>\n      <td>ASAS-SN</td>\n      <td>1</td>\n      <td>3</td>\n      <td>642.568</td>\n      <td>1607.839</td>\n    </tr>\n    <tr>\n      <th>4</th>\n      <td>1</td>\n      <td>327.584333</td>\n      <td>-26.300131</td>\n      <td>19.405</td>\n      <td>1337.965</td>\n      <td>AT</td>\n      <td>Unclassified</td>\n      <td>2018esp</td>\n      <td>ATLAS</td>\n      <td>1</td>\n      <td>3</td>\n      <td>1303.439</td>\n      <td>1157.924</td>\n    </tr>\n    <tr>\n      <th>...</th>\n      <td>...</td>\n      <td>...</td>\n      <td>...</td>\n      <td>...</td>\n      <td>...</td>\n      <td>...</td>\n      <td>...</td>\n      <td>...</td>\n      <td>...</td>\n      <td>...</td>\n      <td>...</td>\n      <td>...</td>\n      <td>...</td>\n    </tr>\n    <tr>\n      <th>4398</th>\n      <td>47</td>\n      <td>167.461817</td>\n      <td>75.334383</td>\n      <td>20.670</td>\n      <td>2601.001</td>\n      <td>AT</td>\n      <td>Unclassified</td>\n      <td>2022aji</td>\n      <td>Pan-STARRS1</td>\n      <td>3</td>\n      <td>2</td>\n      <td>521.417</td>\n      <td>1084.865</td>\n    </tr>\n    <tr>\n      <th>4399</th>\n      <td>47</td>\n      <td>210.216792</td>\n      <td>78.085778</td>\n      <td>19.680</td>\n      <td>2601.143</td>\n      <td>AT</td>\n      <td>Unclassified</td>\n      <td>2022aha</td>\n      <td>Pan-STARRS1</td>\n      <td>3</td>\n      <td>3</td>\n      <td>1679.425</td>\n      <td>1415.721</td>\n    </tr>\n    <tr>\n      <th>4400</th>\n      <td>47</td>\n      <td>300.459933</td>\n      <td>85.849581</td>\n      <td>18.075</td>\n      <td>2588.733</td>\n      <td>AT</td>\n      <td>Unclassified</td>\n      <td>2022gn</td>\n      <td>ATLAS</td>\n      <td>3</td>\n      <td>4</td>\n      <td>1667.608</td>\n      <td>986.600</td>\n    </tr>\n    <tr>\n      <th>4401</th>\n      <td>47</td>\n      <td>256.141083</td>\n      <td>76.155150</td>\n      <td>18.470</td>\n      <td>2589.662</td>\n      <td>AT</td>\n      <td>Unclassified</td>\n      <td>2022op</td>\n      <td>GaiaAlerts</td>\n      <td>4</td>\n      <td>1</td>\n      <td>1990.840</td>\n      <td>279.007</td>\n    </tr>\n    <tr>\n      <th>4402</th>\n      <td>47</td>\n      <td>294.843542</td>\n      <td>66.896581</td>\n      <td>16.070</td>\n      <td>2586.159</td>\n      <td>AT</td>\n      <td>Unclassified</td>\n      <td>2022eg</td>\n      <td>GaiaAlerts</td>\n      <td>4</td>\n      <td>4</td>\n      <td>1644.074</td>\n      <td>1817.239</td>\n    </tr>\n  </tbody>\n</table>\n<p>4403 rows × 13 columns</p>\n</div>"
     },
     "metadata": {},
     "output_type": "display_data"
    }
   ],
   "source": [
    "import os\n",
    "import pandas as pd\n",
    "import matplotlib.pyplot as plt\n",
    "import numpy as np\n",
    "\n",
    "# supernovae_lst = pd.read_csv(\"./TESS_data/sn_count_transients_s1-47 (4).txt\")\n",
    "transients = pd.read_csv(\"./TESS_data/AT_count_transients_s1-47 (4).txt\", names=[\"sector\", \"ra\", \"dec\", \"mag\", \"TJD\", \"type\" ,\"class\", \"IAU\", \"survey\", \"cam\", \"ccd\", \"col\", \"row\"], delim_whitespace=True)\n",
    "display(transients)"
   ]
  },
  {
   "cell_type": "code",
   "execution_count": 142,
   "outputs": [
    {
     "data": {
      "text/plain": "            BTJD         TJD        cts      e_cts         bkg  bkg_model  \\\n0     2447.69674  2447.68761 -1172.5524   715.2312   -250.8033     7.7552   \n1     2447.70369  2447.69456  -189.8238   709.4724      3.7264    83.1414   \n2     2447.71063  2447.70150  -666.6020   710.6165   -180.2586    83.1414   \n3     2447.71758  2447.70845  -542.2016   711.1438     96.4165    83.1414   \n4     2447.72452  2447.71539   347.6588   722.0036    -74.6394    83.1414   \n...          ...         ...        ...        ...         ...        ...   \n2875  2471.27310  2471.26399  2174.5468  1151.9727  -6986.1671   367.1052   \n2876  2471.28005  2471.27094   359.8219  1177.5992  -6131.0641   471.2100   \n2877  2471.28699  2471.27788  2971.5368  1257.8571  -1596.6593   367.1052   \n2878  2471.29394  2471.28483  1916.8104  1284.0115  -2757.0628   367.1052   \n2879  2473.16196  2473.15288  2162.7685  1784.3891 -11729.0275   367.1052   \n\n           bkg2     e_bkg2  \n0     -995.8400   715.2312  \n1      304.4987   709.4724  \n2     -294.4149   710.6165  \n3      103.1520   711.1438  \n4       83.1414   722.0036  \n...         ...        ...  \n2875  1636.8312  1151.9727  \n2876  -234.8776  1177.5992  \n2877  1191.3554  1257.8571  \n2878  1351.1282  1284.0115  \n2879  2317.4931  1784.3891  \n\n[2880 rows x 8 columns]",
      "text/html": "<div>\n<style scoped>\n    .dataframe tbody tr th:only-of-type {\n        vertical-align: middle;\n    }\n\n    .dataframe tbody tr th {\n        vertical-align: top;\n    }\n\n    .dataframe thead th {\n        text-align: right;\n    }\n</style>\n<table border=\"1\" class=\"dataframe\">\n  <thead>\n    <tr style=\"text-align: right;\">\n      <th></th>\n      <th>BTJD</th>\n      <th>TJD</th>\n      <th>cts</th>\n      <th>e_cts</th>\n      <th>bkg</th>\n      <th>bkg_model</th>\n      <th>bkg2</th>\n      <th>e_bkg2</th>\n    </tr>\n  </thead>\n  <tbody>\n    <tr>\n      <th>0</th>\n      <td>2447.69674</td>\n      <td>2447.68761</td>\n      <td>-1172.5524</td>\n      <td>715.2312</td>\n      <td>-250.8033</td>\n      <td>7.7552</td>\n      <td>-995.8400</td>\n      <td>715.2312</td>\n    </tr>\n    <tr>\n      <th>1</th>\n      <td>2447.70369</td>\n      <td>2447.69456</td>\n      <td>-189.8238</td>\n      <td>709.4724</td>\n      <td>3.7264</td>\n      <td>83.1414</td>\n      <td>304.4987</td>\n      <td>709.4724</td>\n    </tr>\n    <tr>\n      <th>2</th>\n      <td>2447.71063</td>\n      <td>2447.70150</td>\n      <td>-666.6020</td>\n      <td>710.6165</td>\n      <td>-180.2586</td>\n      <td>83.1414</td>\n      <td>-294.4149</td>\n      <td>710.6165</td>\n    </tr>\n    <tr>\n      <th>3</th>\n      <td>2447.71758</td>\n      <td>2447.70845</td>\n      <td>-542.2016</td>\n      <td>711.1438</td>\n      <td>96.4165</td>\n      <td>83.1414</td>\n      <td>103.1520</td>\n      <td>711.1438</td>\n    </tr>\n    <tr>\n      <th>4</th>\n      <td>2447.72452</td>\n      <td>2447.71539</td>\n      <td>347.6588</td>\n      <td>722.0036</td>\n      <td>-74.6394</td>\n      <td>83.1414</td>\n      <td>83.1414</td>\n      <td>722.0036</td>\n    </tr>\n    <tr>\n      <th>...</th>\n      <td>...</td>\n      <td>...</td>\n      <td>...</td>\n      <td>...</td>\n      <td>...</td>\n      <td>...</td>\n      <td>...</td>\n      <td>...</td>\n    </tr>\n    <tr>\n      <th>2875</th>\n      <td>2471.27310</td>\n      <td>2471.26399</td>\n      <td>2174.5468</td>\n      <td>1151.9727</td>\n      <td>-6986.1671</td>\n      <td>367.1052</td>\n      <td>1636.8312</td>\n      <td>1151.9727</td>\n    </tr>\n    <tr>\n      <th>2876</th>\n      <td>2471.28005</td>\n      <td>2471.27094</td>\n      <td>359.8219</td>\n      <td>1177.5992</td>\n      <td>-6131.0641</td>\n      <td>471.2100</td>\n      <td>-234.8776</td>\n      <td>1177.5992</td>\n    </tr>\n    <tr>\n      <th>2877</th>\n      <td>2471.28699</td>\n      <td>2471.27788</td>\n      <td>2971.5368</td>\n      <td>1257.8571</td>\n      <td>-1596.6593</td>\n      <td>367.1052</td>\n      <td>1191.3554</td>\n      <td>1257.8571</td>\n    </tr>\n    <tr>\n      <th>2878</th>\n      <td>2471.29394</td>\n      <td>2471.28483</td>\n      <td>1916.8104</td>\n      <td>1284.0115</td>\n      <td>-2757.0628</td>\n      <td>367.1052</td>\n      <td>1351.1282</td>\n      <td>1284.0115</td>\n    </tr>\n    <tr>\n      <th>2879</th>\n      <td>2473.16196</td>\n      <td>2473.15288</td>\n      <td>2162.7685</td>\n      <td>1784.3891</td>\n      <td>-11729.0275</td>\n      <td>367.1052</td>\n      <td>2317.4931</td>\n      <td>1784.3891</td>\n    </tr>\n  </tbody>\n</table>\n<p>2880 rows × 8 columns</p>\n</div>"
     },
     "metadata": {},
     "output_type": "display_data"
    }
   ],
   "source": [
    "light_curves = os.listdir(\"./TESS_data/light_curves_fausnaugh\")\n",
    "# name = light_curves[random.randint(0, len(light_curves)-1)]\n",
    "# print(light_curves[i])\n",
    "filename = \"lc_2021xgw_cleaned\"\n",
    "curve = pd.read_csv(\"./TESS_data/light_curves_fausnaugh/\" + filename, delim_whitespace=True)\n",
    "\n",
    "display(curve)"
   ],
   "metadata": {
    "collapsed": false,
    "pycharm": {
     "name": "#%%\n"
    }
   }
  },
  {
   "cell_type": "code",
   "execution_count": 141,
   "outputs": [
    {
     "data": {
      "text/plain": "      sector          ra       dec    mag       TJD type         class  \\\n3567      42  340.437763 -4.713439  20.39  2456.881   AT  Unclassified   \n\n          IAU       survey  cam  ccd      col       row  \n3567  2021xgw  Pan-STARRS1    1    2  453.477  1799.166  ",
      "text/html": "<div>\n<style scoped>\n    .dataframe tbody tr th:only-of-type {\n        vertical-align: middle;\n    }\n\n    .dataframe tbody tr th {\n        vertical-align: top;\n    }\n\n    .dataframe thead th {\n        text-align: right;\n    }\n</style>\n<table border=\"1\" class=\"dataframe\">\n  <thead>\n    <tr style=\"text-align: right;\">\n      <th></th>\n      <th>sector</th>\n      <th>ra</th>\n      <th>dec</th>\n      <th>mag</th>\n      <th>TJD</th>\n      <th>type</th>\n      <th>class</th>\n      <th>IAU</th>\n      <th>survey</th>\n      <th>cam</th>\n      <th>ccd</th>\n      <th>col</th>\n      <th>row</th>\n    </tr>\n  </thead>\n  <tbody>\n    <tr>\n      <th>3567</th>\n      <td>42</td>\n      <td>340.437763</td>\n      <td>-4.713439</td>\n      <td>20.39</td>\n      <td>2456.881</td>\n      <td>AT</td>\n      <td>Unclassified</td>\n      <td>2021xgw</td>\n      <td>Pan-STARRS1</td>\n      <td>1</td>\n      <td>2</td>\n      <td>453.477</td>\n      <td>1799.166</td>\n    </tr>\n  </tbody>\n</table>\n</div>"
     },
     "metadata": {},
     "output_type": "display_data"
    }
   ],
   "source": [
    "curve_name = filename.split(\"_\")[1]\n",
    "curve_meta = transients[transients['IAU'] == curve_name]\n",
    "\n",
    "def display_curve(col):\n",
    "    curve.plot.scatter(x=\"BTJD\", y=col, c=\"00000\", alpha=0.5, yerr=curve[\"e_cts\"], ylabel=\"Flux\", xlabel=\"Barycentric TESS Julian Date\", title=curve_name)\n",
    "\n",
    "display(curve_meta)"
   ],
   "metadata": {
    "collapsed": false,
    "pycharm": {
     "name": "#%%\n"
    }
   }
  },
  {
   "cell_type": "markdown",
   "source": [
    "# Preprocessing steps\n",
    "## 1. Sigma Clipping: remove points with flux uncertainties more than 3 sigma from mean uncertainty, repeat clipping 5 times"
   ],
   "metadata": {
    "collapsed": false,
    "pycharm": {
     "name": "#%% md\n"
    }
   }
  },
  {
   "cell_type": "code",
   "execution_count": 138,
   "outputs": [
    {
     "data": {
      "text/plain": "<Figure size 432x288 with 1 Axes>",
      "image/png": "[encoded data removed]"
     },
     "metadata": {
      "needs_background": "light"
     },
     "output_type": "display_data"
    }
   ],
   "source": [
    "for _ in range(0, 5):\n",
    "    uncert_mean = curve.e_cts.mean()\n",
    "    threshold = 3*curve.e_cts.std()\n",
    "    curve = curve[np.abs(curve['e_cts'] - uncert_mean) <= threshold]\n",
    "\n",
    "display_curve(\"cts\")"
   ],
   "metadata": {
    "collapsed": false,
    "pycharm": {
     "name": "#%%\n"
    }
   }
  },
  {
   "cell_type": "markdown",
   "source": [
    "## 2. Subtract background Flux"
   ],
   "metadata": {
    "collapsed": false,
    "pycharm": {
     "name": "#%% md\n"
    }
   }
  },
  {
   "cell_type": "code",
   "execution_count": 139,
   "outputs": [
    {
     "data": {
      "text/plain": "<Figure size 432x288 with 1 Axes>",
      "image/png": "[encoded data removed]"
     },
     "metadata": {
      "needs_background": "light"
     },
     "output_type": "display_data"
    }
   ],
   "source": [
    "curve['no_bkg_cts'] = curve['cts'] - curve['bkg_model']\n",
    "display_curve('no_bkg_cts')"
   ],
   "metadata": {
    "collapsed": false,
    "pycharm": {
     "name": "#%%\n"
    }
   }
  },
  {
   "cell_type": "markdown",
   "source": [
    "## 3. Correct for milky way extinction using Fitzpatrick Reddening function\n",
    "Wavelength of TESS bandpass is between 600-1000nm, central wavelength is 786.5nm"
   ],
   "metadata": {
    "collapsed": false,
    "pycharm": {
     "name": "#%% md\n"
    }
   }
  },
  {
   "cell_type": "code",
   "execution_count": 140,
   "outputs": [
    {
     "ename": "Exception",
     "evalue": "The dust service responded with an error: \n    Coordinate [[340.4377685] [-4.71343466]] lookup error: Invalid object name.\n  ",
     "output_type": "error",
     "traceback": [
      "\u001B[1;31m---------------------------------------------------------------------------\u001B[0m",
      "\u001B[1;31mException\u001B[0m                                 Traceback (most recent call last)",
      "Input \u001B[1;32mIn [140]\u001B[0m, in \u001B[0;36m<cell line: 16>\u001B[1;34m()\u001B[0m\n\u001B[0;32m     14\u001B[0m \u001B[38;5;66;03m# Get Milky Way E(B-V) Extinction\u001B[39;00m\n\u001B[0;32m     15\u001B[0m coo \u001B[38;5;241m=\u001B[39m coord\u001B[38;5;241m.\u001B[39mSkyCoord(ra \u001B[38;5;241m*\u001B[39m u\u001B[38;5;241m.\u001B[39mdeg, dec \u001B[38;5;241m*\u001B[39m u\u001B[38;5;241m.\u001B[39mdeg, frame\u001B[38;5;241m=\u001B[39m\u001B[38;5;124m'\u001B[39m\u001B[38;5;124micrs\u001B[39m\u001B[38;5;124m'\u001B[39m)\n\u001B[1;32m---> 16\u001B[0m dust \u001B[38;5;241m=\u001B[39m \u001B[43mIrsaDust\u001B[49m\u001B[38;5;241;43m.\u001B[39;49m\u001B[43mget_query_table\u001B[49m\u001B[43m(\u001B[49m\u001B[43mcoo\u001B[49m\u001B[43m,\u001B[49m\u001B[43m \u001B[49m\u001B[43msection\u001B[49m\u001B[38;5;241;43m=\u001B[39;49m\u001B[38;5;124;43m'\u001B[39;49m\u001B[38;5;124;43mebv\u001B[39;49m\u001B[38;5;124;43m'\u001B[39;49m\u001B[43m)\u001B[49m\n\u001B[0;32m     17\u001B[0m mwebv \u001B[38;5;241m=\u001B[39m dust[\u001B[38;5;124m'\u001B[39m\u001B[38;5;124mext SandF mean\u001B[39m\u001B[38;5;124m'\u001B[39m][\u001B[38;5;241m0\u001B[39m]\n\u001B[0;32m     20\u001B[0m \u001B[38;5;66;03m# Remove extinction from light curves (Using negative a_v so that extinction.apply works in reverse and removes the extinction)\u001B[39;00m\n",
      "File \u001B[1;32m~\\code\\TESSEpochTime\\venv\\lib\\site-packages\\astroquery\\ipac\\irsa\\irsa_dust\\core.py:299\u001B[0m, in \u001B[0;36mIrsaDustClass.get_query_table\u001B[1;34m(self, coordinate, radius, section, timeout, url)\u001B[0m\n\u001B[0;32m    296\u001B[0m request_payload \u001B[38;5;241m=\u001B[39m \u001B[38;5;28mself\u001B[39m\u001B[38;5;241m.\u001B[39m_args_to_payload(coordinate, radius\u001B[38;5;241m=\u001B[39mradius)\n\u001B[0;32m    297\u001B[0m response \u001B[38;5;241m=\u001B[39m \u001B[38;5;28mself\u001B[39m\u001B[38;5;241m.\u001B[39m_request(\u001B[38;5;124m\"\u001B[39m\u001B[38;5;124mPOST\u001B[39m\u001B[38;5;124m\"\u001B[39m, url, data\u001B[38;5;241m=\u001B[39mrequest_payload,\n\u001B[0;32m    298\u001B[0m                          timeout\u001B[38;5;241m=\u001B[39mtimeout)\n\u001B[1;32m--> 299\u001B[0m xml_tree \u001B[38;5;241m=\u001B[39m \u001B[43mutils\u001B[49m\u001B[38;5;241;43m.\u001B[39;49m\u001B[43mxml\u001B[49m\u001B[43m(\u001B[49m\u001B[43mresponse\u001B[49m\u001B[38;5;241;43m.\u001B[39;49m\u001B[43mtext\u001B[49m\u001B[43m)\u001B[49m\n\u001B[0;32m    300\u001B[0m result \u001B[38;5;241m=\u001B[39m SingleDustResult(xml_tree, coordinate)\n\u001B[0;32m    301\u001B[0m \u001B[38;5;28;01mif\u001B[39;00m section \u001B[38;5;129;01mis\u001B[39;00m \u001B[38;5;28;01mNone\u001B[39;00m \u001B[38;5;129;01mor\u001B[39;00m section \u001B[38;5;129;01min\u001B[39;00m [\u001B[38;5;124m\"\u001B[39m\u001B[38;5;124mlocation\u001B[39m\u001B[38;5;124m\"\u001B[39m, \u001B[38;5;124m\"\u001B[39m\u001B[38;5;124mloc\u001B[39m\u001B[38;5;124m\"\u001B[39m, \u001B[38;5;124m\"\u001B[39m\u001B[38;5;124ml\u001B[39m\u001B[38;5;124m\"\u001B[39m]:\n",
      "File \u001B[1;32m~\\code\\TESSEpochTime\\venv\\lib\\site-packages\\astroquery\\ipac\\irsa\\irsa_dust\\utils.py:119\u001B[0m, in \u001B[0;36mxml\u001B[1;34m(response)\u001B[0m\n\u001B[0;32m    117\u001B[0m \u001B[38;5;28;01mif\u001B[39;00m status \u001B[38;5;241m==\u001B[39m \u001B[38;5;124m\"\u001B[39m\u001B[38;5;124merror\u001B[39m\u001B[38;5;124m\"\u001B[39m:\n\u001B[0;32m    118\u001B[0m     message \u001B[38;5;241m=\u001B[39m root\u001B[38;5;241m.\u001B[39mfind(\u001B[38;5;124m\"\u001B[39m\u001B[38;5;124mmessage\u001B[39m\u001B[38;5;124m\"\u001B[39m)\u001B[38;5;241m.\u001B[39mtext\n\u001B[1;32m--> 119\u001B[0m     \u001B[38;5;28;01mraise\u001B[39;00m \u001B[38;5;167;01mException\u001B[39;00m(\u001B[38;5;124m\"\u001B[39m\u001B[38;5;124mThe dust service responded with an error: \u001B[39m\u001B[38;5;124m\"\u001B[39m \u001B[38;5;241m+\u001B[39m message)\n\u001B[0;32m    120\u001B[0m \u001B[38;5;28;01melif\u001B[39;00m status \u001B[38;5;241m!=\u001B[39m \u001B[38;5;124m\"\u001B[39m\u001B[38;5;124mok\u001B[39m\u001B[38;5;124m\"\u001B[39m:\n\u001B[0;32m    121\u001B[0m     \u001B[38;5;28;01mraise\u001B[39;00m \u001B[38;5;167;01mException\u001B[39;00m(\u001B[38;5;124m\"\u001B[39m\u001B[38;5;124mResponse status was not \u001B[39m\u001B[38;5;124m'\u001B[39m\u001B[38;5;124mok\u001B[39m\u001B[38;5;124m'\u001B[39m\u001B[38;5;124m.\u001B[39m\u001B[38;5;124m\"\u001B[39m)\n",
      "\u001B[1;31mException\u001B[0m: The dust service responded with an error: \n    Coordinate [[340.4377685] [-4.71343466]] lookup error: Invalid object name.\n  "
     ]
    }
   ],
   "source": [
    "import extinction\n",
    "from astroquery.irsa_dust import IrsaDust\n",
    "import astropy.coordinates as coord\n",
    "import astropy.units as u\n",
    "\n",
    "# Set relevant parameters\n",
    "ra = curve_meta[\"ra\"]\n",
    "dec = curve_meta[\"dec\"]\n",
    "flux_in = curve[\"cts\"]\n",
    "fluxerr_in = curve[\"e_cts\"]\n",
    "bandpass_wavelengths = np.array([786.5,])\n",
    "\n",
    "\n",
    "# Get Milky Way E(B-V) Extinction\n",
    "coo = coord.SkyCoord(ra * u.deg, dec * u.deg, frame='icrs')\n",
    "dust = IrsaDust.get_query_table(coo, section='ebv')\n",
    "mwebv = dust['ext SandF mean'][0]\n",
    "\n",
    "\n",
    "# Remove extinction from light curves (Using negative a_v so that extinction.apply works in reverse and removes the extinction)\n",
    "extinction_per_passband = extinction.fitzpatrick99(wave=bandpass_wavelengths, a_v=-3.1 * mwebv, r_v=3.1, unit='aa')\n",
    "flux_out = extinction.apply(extinction_per_passband[0], flux_in, inplace=False)\n",
    "fluxerr_out = extinction.apply(extinction_per_passband[0], fluxerr_in, inplace=False)"
   ],
   "metadata": {
    "collapsed": false,
    "pycharm": {
     "name": "#%%\n"
    }
   }
  },
  {
   "cell_type": "markdown",
   "source": [
    "## 4. Normalize Data"
   ],
   "metadata": {
    "collapsed": false,
    "pycharm": {
     "name": "#%% md\n"
    }
   }
  },
  {
   "cell_type": "code",
   "execution_count": null,
   "outputs": [],
   "source": [
    "curve['normalized_cts'] = (curve.no_bkg_cts - curve.no_bkg_cts.min()) / (curve.no_bkg_cts.max()-curve.no_bkg_cts.min())\n",
    "curve.plot.scatter(x=\"BTJD\", y='normalized_cts', c=\"00000\", alpha=0.5, ylabel=\"Flux\", xlabel=\"Barycentric TESS Julian Date\")"
   ],
   "metadata": {
    "collapsed": false,
    "pycharm": {
     "name": "#%%\n"
    }
   }
  },
  {
   "cell_type": "markdown",
   "source": [
    "## 5. Bin data (May be needed)"
   ],
   "metadata": {
    "collapsed": false,
    "pycharm": {
     "name": "#%% md\n"
    }
   }
  },
  {
   "cell_type": "code",
   "execution_count": null,
   "outputs": [],
   "source": [],
   "metadata": {
    "collapsed": false,
    "pycharm": {
     "name": "#%%\n"
    }
   }
  },
  {
   "cell_type": "markdown",
   "source": [
    "# Find training labels\n",
    "## 1. Max Light"
   ],
   "metadata": {
    "collapsed": false,
    "pycharm": {
     "name": "#%% md\n"
    }
   }
  },
  {
   "cell_type": "code",
   "execution_count": null,
   "outputs": [],
   "source": [
    "t_max = curve[\"normalized_cts\"].idxmax()\n",
    "display(t_max)"
   ],
   "metadata": {
    "collapsed": false,
    "pycharm": {
     "name": "#%%\n"
    }
   }
  },
  {
   "cell_type": "markdown",
   "source": [
    "## 2. Explosion Time"
   ],
   "metadata": {
    "collapsed": false,
    "pycharm": {
     "name": "#%% md\n"
    }
   }
  },
  {
   "cell_type": "code",
   "execution_count": null,
   "outputs": [],
   "source": [],
   "metadata": {
    "collapsed": false,
    "pycharm": {
     "name": "#%%\n"
    }
   }
  },
  {
   "cell_type": "code",
   "execution_count": null,
   "outputs": [],
   "source": [],
   "metadata": {
    "collapsed": false,
    "pycharm": {
     "name": "#%%\n"
    }
   }
  }
 ],
 "metadata": {
  "kernelspec": {
   "display_name": "Python 3",
   "language": "python",
   "name": "python3"
  },
  "language_info": {
   "codemirror_mode": {
    "name": "ipython",
    "version": 2
   },
   "file_extension": ".py",
   "mimetype": "text/x-python",
   "name": "python",
   "nbconvert_exporter": "python",
   "pygments_lexer": "ipython2",
   "version": "2.7.6"
  }
 },
 "nbformat": 4,
 "nbformat_minor": 0
}